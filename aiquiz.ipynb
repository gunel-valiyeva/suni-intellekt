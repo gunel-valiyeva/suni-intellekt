{
 "cells": [
  {
   "cell_type": "code",
   "execution_count": 2,
   "id": "e2b2162f-25c2-4d2d-b832-661d7d05d1af",
   "metadata": {},
   "outputs": [
    {
     "name": "stdin",
     "output_type": "stream",
     "text": [
      "x deyerini daxil edin:  6\n"
     ]
    },
    {
     "name": "stdout",
     "output_type": "stream",
     "text": [
      "müsbət\n"
     ]
    }
   ],
   "source": [
    "x = int(input(\"x deyerini daxil edin: \"))\n",
    "if x > 0:\n",
    "    print(\"müsbət\")\n",
    "elif x < 0:\n",
    "    print(\"mənfi\")\n",
    "else:\n",
    "    print(\"sıfır\")"
   ]
  },
  {
   "cell_type": "code",
   "execution_count": null,
   "id": "56320c11-beda-4358-aa3c-61dc30618616",
   "metadata": {},
   "outputs": [],
   "source": []
  }
 ],
 "metadata": {
  "kernelspec": {
   "display_name": "Python [conda env:base] *",
   "language": "python",
   "name": "conda-base-py"
  },
  "language_info": {
   "codemirror_mode": {
    "name": "ipython",
    "version": 3
   },
   "file_extension": ".py",
   "mimetype": "text/x-python",
   "name": "python",
   "nbconvert_exporter": "python",
   "pygments_lexer": "ipython3",
   "version": "3.12.7"
  }
 },
 "nbformat": 4,
 "nbformat_minor": 5
}
