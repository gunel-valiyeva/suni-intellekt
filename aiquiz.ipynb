{
 "cells": [
  {
   "cell_type": "markdown",
   "id": "77c16a02-5728-4f90-87a7-830b8da8d522",
   "metadata": {},
   "source": [
    "# Sprint_3a_task"
   ]
  },
  {
   "cell_type": "code",
   "execution_count": 2,
   "id": "e2b2162f-25c2-4d2d-b832-661d7d05d1af",
   "metadata": {},
   "outputs": [
    {
     "name": "stdin",
     "output_type": "stream",
     "text": [
      "x deyerini daxil edin:  5\n"
     ]
    },
    {
     "name": "stdout",
     "output_type": "stream",
     "text": [
      "müsbet\n"
     ]
    }
   ],
   "source": [
    "# 1) x dəyişəni verilmişdir. Əgər x > 0 olarsa \"müsbət\", x < 0 olarsa \"mənfi\", bərabərdirsə \"sıfır\" çap etsin.\n",
    "x = int(input('x deyerini daxil edin: '))\n",
    "if x > 0:\n",
    "    print('müsbet')\n",
    "elif x < 0:\n",
    "    print('mənfi')\n",
    "else:\n",
    "    print('sıfır')"
   ]
  },
  {
   "cell_type": "code",
   "execution_count": 4,
   "id": "56320c11-beda-4358-aa3c-61dc30618616",
   "metadata": {},
   "outputs": [
    {
     "name": "stdin",
     "output_type": "stream",
     "text": [
      "n dəyərini daxil edin:  8\n"
     ]
    },
    {
     "name": "stdout",
     "output_type": "stream",
     "text": [
      "cüt\n"
     ]
    }
   ],
   "source": [
    "# 2) n rəqəmi cütdürsə \"cüt\", təkdirsə \"tək\" çap etsin.\n",
    "n = int(input('n dəyərini daxil edin: '))\n",
    "if n % 2 == 0:\n",
    "    print('cüt')\n",
    "else:\n",
    "    print('tək')"
   ]
  },
  {
   "cell_type": "code",
   "execution_count": 10,
   "id": "2ff34cef-b93a-4a24-9960-12c67dbcac52",
   "metadata": {},
   "outputs": [
    {
     "name": "stdin",
     "output_type": "stream",
     "text": [
      "a:  6\n",
      "b:  4\n",
      "c:  5\n"
     ]
    },
    {
     "name": "stdout",
     "output_type": "stream",
     "text": [
      "Ən böyük: a = 6\n"
     ]
    }
   ],
   "source": [
    "# 3) a, b, c rəqəmləri verilmişdir. Ən böyük rəqəmi çap etsin.\n",
    "a = int(input('a: '))\n",
    "b = int(input('b: '))\n",
    "c = int(input('c: '))\n",
    "\n",
    "if a >= b and a >= c:\n",
    "    print('Ən böyük: a = {}'.format(a))\n",
    "elif b >= a and b >= c:\n",
    "    print('Ən böyük: b = {}'.format(b))\n",
    "else:\n",
    "    print('Ən böyük: c = {}'.format(c))"
   ]
  },
  {
   "cell_type": "code",
   "execution_count": 16,
   "id": "b06e599b-9152-411a-b1ea-47e9ae0d01b7",
   "metadata": {},
   "outputs": [
    {
     "name": "stdin",
     "output_type": "stream",
     "text": [
      "Günü rəqəmlə daxil edin (1-7):  6\n"
     ]
    },
    {
     "name": "stdout",
     "output_type": "stream",
     "text": [
      "Şənbə\n"
     ]
    }
   ],
   "source": [
    "# 4) day dəyişəni 1-7 arası rəqəmdir. Müvafiq həftə gününü (1 = \"Bazar ertəsi\", ..., 7 = \"Bazar\") çap etsin, əks halda \"Yanlış gün\" yazsın.\n",
    "day = int(input('Günü rəqəmlə daxil edin (1-7): '))\n",
    "weekdays = ['Bazar ertəsi', 'Çərşənbə axşamı', 'Çərşənbə', 'Cümə axşamı', 'Cümə', 'Şənbə', 'Bazar']\n",
    "if 1 <= day <= 7:\n",
    "    print(weekdays[day - 1])\n",
    "else:\n",
    "    print('Yanlış gün')\n"
   ]
  },
  {
   "cell_type": "code",
   "execution_count": 18,
   "id": "be20a46b-8f27-4786-a6f1-2fa7a5319a43",
   "metadata": {},
   "outputs": [
    {
     "name": "stdin",
     "output_type": "stream",
     "text": [
      "Temperaturu daxil edin:  78\n"
     ]
    },
    {
     "name": "stdout",
     "output_type": "stream",
     "text": [
      "isti\n"
     ]
    }
   ],
   "source": [
    "# 5) temp dəyişəni temperaturdur. Əgər temp < 0 olarsa \"soyuq\", \n",
    "# 0-20 arası olarsa \"normal\", 20-dən böyükdürsə \"isti\" çap etsin.\n",
    "temp = int(input('Temperaturu daxil edin: '))\n",
    "if temp < 0:\n",
    "    print('soyuq')\n",
    "elif 0 <= temp <= 20:\n",
    "    print('normal')\n",
    "else:\n",
    "    print('isti')\n"
   ]
  },
  {
   "cell_type": "code",
   "execution_count": 20,
   "id": "9f6d09a1-0f1b-4b16-a59a-bcefd34f2ce0",
   "metadata": {},
   "outputs": [
    {
     "name": "stdin",
     "output_type": "stream",
     "text": [
      "Şifrəni daxil edin:  7\n"
     ]
    },
    {
     "name": "stdout",
     "output_type": "stream",
     "text": [
      "qısa\n"
     ]
    }
   ],
   "source": [
    "# 6) password adlı string verilmişdir. Əgər uzunluğu 8-dən kiçikdirsə \"qısa\", \n",
    "# 8-12 arasıdırsa \"orta\", 12-dən böyükdürsə \"uzun\" çap etsin.\n",
    "password = input('Şifrəni daxil edin: ')\n",
    "if len(password) < 8:\n",
    "    print('qısa')\n",
    "elif len(password) <= 12:\n",
    "    print('orta')\n",
    "else:\n",
    "    print('uzun')\n"
   ]
  },
  {
   "cell_type": "code",
   "execution_count": 22,
   "id": "9e842ec3-2298-4b0a-838d-ef37958d40e7",
   "metadata": {},
   "outputs": [
    {
     "name": "stdin",
     "output_type": "stream",
     "text": [
      "x:  51\n"
     ]
    },
    {
     "name": "stdout",
     "output_type": "stream",
     "text": [
      "3\n"
     ]
    }
   ],
   "source": [
    "# 7) x rəqəmi həm 3-ə, həm də 5-ə bölünürsə \"3 və 5\", yalnız 3-ə bölünürsə \"3\", yalnız 5-ə bölünürsə \"5\", \n",
    "# heç birinə bölünmürsə \"heç biri\" çap etsin.\n",
    "x = int(input(\"x: \"))\n",
    "if x % 3 == 0 and x % 5 == 0:\n",
    "    print(\"3 və 5\")\n",
    "elif x % 3 == 0:\n",
    "    print(\"3\")\n",
    "elif x % 5 == 0:\n",
    "    print(\"5\")\n",
    "else:\n",
    "    print(\"heç biri\")\n"
   ]
  },
  {
   "cell_type": "code",
   "execution_count": 24,
   "id": "8adbf5b9-d2d7-4dae-a3f1-53eca1c6a05b",
   "metadata": {
    "collapsed": true,
    "jupyter": {
     "outputs_hidden": true
    }
   },
   "outputs": [
    {
     "name": "stdout",
     "output_type": "stream",
     "text": [
      "0\n",
      "2\n",
      "4\n",
      "6\n",
      "8\n",
      "10\n",
      "12\n",
      "14\n",
      "16\n",
      "18\n",
      "20\n"
     ]
    }
   ],
   "source": [
    "# 8) 0-dan 20-yə qədər cüt rəqəmləri çap etsin.\n",
    "for i in range(0, 21):\n",
    "    if i % 2 == 0:\n",
    "        print(i)\n",
    "        \n",
    "# for i in range(0, 21, 2):\n",
    "#     print(i)"
   ]
  },
  {
   "cell_type": "code",
   "execution_count": 28,
   "id": "7e96b12f-13b5-4722-bcb7-76fdc11b352d",
   "metadata": {
    "collapsed": true,
    "jupyter": {
     "outputs_hidden": true
    }
   },
   "outputs": [
    {
     "name": "stdout",
     "output_type": "stream",
     "text": [
      "B\n",
      "a\n",
      "ğ\n",
      "d\n",
      "a\n",
      " \n",
      "ə\n",
      "r\n",
      "i\n",
      "k\n",
      " \n",
      "v\n",
      "a\n",
      "r\n",
      " \n",
      "i\n",
      "d\n",
      "i\n",
      " \n",
      "…\n"
     ]
    }
   ],
   "source": [
    "# 9) \"Bağda ərik var idi …\" stringinin hər elementini for ilə ayrı-ayrılıqda çap edin.\n",
    "text = \"Bağda ərik var idi …\"\n",
    "for i in text:\n",
    "    print(i)\n"
   ]
  },
  {
   "cell_type": "code",
   "execution_count": 30,
   "id": "84fcae5c-37ab-4e03-bd79-1ca9f8d560c7",
   "metadata": {
    "collapsed": true,
    "jupyter": {
     "outputs_hidden": true
    }
   },
   "outputs": [
    {
     "name": "stdout",
     "output_type": "stream",
     "text": [
      "1\n",
      "2\n",
      "4\n",
      "5\n",
      "6\n",
      "7\n",
      "8\n",
      "9\n",
      "10\n"
     ]
    }
   ],
   "source": [
    "# 10) 1-dən 10-a qədər rəqəmləri çap edin, amma 3 xaric.\n",
    "for i in range(1, 11):\n",
    "    if i == 3:\n",
    "        continue\n",
    "    print(i)\n"
   ]
  },
  {
   "cell_type": "code",
   "execution_count": 32,
   "id": "82598140-d7d7-42ce-9e7b-9041fc41c54a",
   "metadata": {},
   "outputs": [
    {
     "name": "stdout",
     "output_type": "stream",
     "text": [
      "5\n"
     ]
    }
   ],
   "source": [
    "# 11) 1-dən başlayaraq ilk 5-ə bölünən rəqəmi tapın və while ilə çap edin (break istifadə edin).\n",
    "i = 1\n",
    "while True:\n",
    "    if i % 5 == 0:\n",
    "        print(i)\n",
    "        break\n",
    "    i += 1\n"
   ]
  },
  {
   "cell_type": "code",
   "execution_count": 34,
   "id": "e18d3415-0099-4af2-acf6-edfa5d271849",
   "metadata": {},
   "outputs": [
    {
     "name": "stdout",
     "output_type": "stream",
     "text": [
      "5-in indeksi: 2\n"
     ]
    }
   ],
   "source": [
    "# 12) (1, 3, 5, 7, 9) listində/vectorunda 5-i tapın və indeksini çap edin (break istifadə edin).\n",
    "list1 = [1, 3, 5, 7, 9]\n",
    "for i in range(len(list1)):\n",
    "    if list1[i] == 5:\n",
    "        print(f\"5-in indeksi: {i}\")\n",
    "        break"
   ]
  },
  {
   "cell_type": "markdown",
   "id": "1b688501-c238-43a6-bc5f-89f49ffa96d3",
   "metadata": {},
   "source": [
    "# Sprint_3b_task"
   ]
  },
  {
   "cell_type": "code",
   "execution_count": 49,
   "id": "4f08d4a5-e9a9-47cb-afd9-fb54d9460206",
   "metadata": {},
   "outputs": [
    {
     "name": "stdout",
     "output_type": "stream",
     "text": [
      "Salam, Dünya!\n"
     ]
    }
   ],
   "source": [
    "# 1) salam adlı funksiya yaradın ki, heç bir arqument almadan sadəcə \"Salam, Dünya!\" çap etsin.\n",
    "def salam():\n",
    "    print('Salam, Dünya!')\n",
    "\n",
    "salam()"
   ]
  },
  {
   "cell_type": "code",
   "execution_count": 51,
   "id": "003e9922-57fc-4f49-99c8-dd0c29fddb96",
   "metadata": {},
   "outputs": [
    {
     "data": {
      "text/plain": [
       "27"
      ]
     },
     "execution_count": 51,
     "metadata": {},
     "output_type": "execute_result"
    }
   ],
   "source": [
    "# 2) kub_hesabla adlı funksiya yaradın ki, bir rəqəm (n) qəbul etsin və onun kubunu qaytarsın.\n",
    "def kub_hesabla(n):\n",
    "    return n ** 3\n",
    "\n",
    "kub_hesabla(3)"
   ]
  },
  {
   "cell_type": "code",
   "execution_count": 53,
   "id": "8145637c-f352-47d3-b54a-9793a7916930",
   "metadata": {},
   "outputs": [
    {
     "data": {
      "text/plain": [
       "'V G'"
      ]
     },
     "execution_count": 53,
     "metadata": {},
     "output_type": "execute_result"
    }
   ],
   "source": [
    "# 3) birlesdir adlı funksiya yaradın ki, iki söz qəbul etsin və onları boşluqla birləşdirib qaytarsın.\n",
    "def birlesdir(a, b):\n",
    "    return a + ' ' + b\n",
    "\n",
    "birlesdir('V','G')"
   ]
  },
  {
   "cell_type": "code",
   "execution_count": 55,
   "id": "241cf28d-ec4b-44ef-9a48-69c41b75a236",
   "metadata": {
    "collapsed": true,
    "jupyter": {
     "outputs_hidden": true
    }
   },
   "outputs": [
    {
     "name": "stdout",
     "output_type": "stream",
     "text": [
      "A\n",
      "D\n",
      "N\n",
      "S\n",
      "U\n"
     ]
    }
   ],
   "source": [
    "# 4) cap_et adlı funksiya yaradın ki, bir listi arqument olaraq alsın və listin hər elementini for ilə çap etsin.\n",
    "def cap_et(l):\n",
    "    for i in l:\n",
    "        print(i)\n",
    "\n",
    "cap_et('ADNSU')"
   ]
  },
  {
   "cell_type": "code",
   "execution_count": 59,
   "id": "b7caee26-1e0a-48d8-bb4a-d9f35883301a",
   "metadata": {},
   "outputs": [
    {
     "data": {
      "text/plain": [
       "21"
      ]
     },
     "execution_count": 59,
     "metadata": {},
     "output_type": "execute_result"
    }
   ],
   "source": [
    "# 5) toplam adlı funksiya yaradın ki, istənilən sayda rəqəmi (*args) qəbul edib onların cəmini qaytarsın.\n",
    "def toplam(*args):\n",
    "    return sum(args)\n",
    "\n",
    "toplam(1,2,3,4,5,6)"
   ]
  },
  {
   "cell_type": "code",
   "execution_count": 61,
   "id": "7a52d66b-4845-4149-af64-c969982ec316",
   "metadata": {},
   "outputs": [
    {
     "data": {
      "text/plain": [
       "3.5"
      ]
     },
     "execution_count": 61,
     "metadata": {},
     "output_type": "execute_result"
    }
   ],
   "source": [
    "# 6) ortalama adlı funksiya yaradın ki, istənilən sayda rəqəmi (*args) qəbul edib \n",
    "# onların ortalamasını qaytarsın (əgər heç bir rəqəm yoxdursa, \"Rəqəm yoxdur\" qaytarsın).\n",
    "def ortalama(*args):\n",
    "    if not args:\n",
    "        return 'Rəqəm yoxdur'\n",
    "    return sum(args) / len(args)\n",
    "\n",
    "ortalama(1,2,3,4,5,6)"
   ]
  },
  {
   "cell_type": "code",
   "execution_count": 69,
   "id": "e54e3079-1d67-416b-a183-0da2f261ae86",
   "metadata": {},
   "outputs": [
    {
     "name": "stdout",
     "output_type": "stream",
     "text": [
      "ad: a, rəqəm: 1\n",
      "ad: b, rəqəm: 2\n",
      "ad: c, rəqəm: 3\n"
     ]
    }
   ],
   "source": [
    "# 7) adlar_rəqəmlər adlı funksiya yaradın ki, istənilən sayda ad və rəqəm cütünü (**kwargs) qəbul edib \n",
    "# hər cütü çap etsin (məsələn, \"ad: bir, rəqəm: 1\").\n",
    "def adlar_rəqəmlər(**kwargs):\n",
    "    for ad, rəqəm in kwargs.items():\n",
    "        print(f'ad: {ad}, rəqəm: {rəqəm}')\n",
    "\n",
    "adlar_rəqəmlər(a=1, b=2, c=3)"
   ]
  },
  {
   "cell_type": "code",
   "execution_count": 75,
   "id": "b79de0e4-4aa0-4336-9046-6319c627f04a",
   "metadata": {},
   "outputs": [],
   "source": [
    "# 8) tip_yoxla adlı funksiya yaradın ki, bir dəyər qəbul edib \n",
    "# onun tipini yoxlasın: \"mətn\", \"rəqəm\", \"başqa\" çap etsin.\n",
    "def tip_yoxla(dəyər):\n",
    "    if isinstance(dəyər, str):\n",
    "        print('mətn')\n",
    "    elif isinstance(dəyər, (int, float)):\n",
    "        print('rəqəm')\n",
    "    else:\n",
    "        print('başqa')"
   ]
  },
  {
   "cell_type": "code",
   "execution_count": 89,
   "id": "e193cfe6-e647-41b5-a841-09b4f2942ff1",
   "metadata": {},
   "outputs": [
    {
     "name": "stdout",
     "output_type": "stream",
     "text": [
      "rəqəm\n"
     ]
    }
   ],
   "source": [
    "tip_yoxla(5)"
   ]
  },
  {
   "cell_type": "code",
   "execution_count": 97,
   "id": "3facb753-008f-4960-9608-896396c7fde1",
   "metadata": {},
   "outputs": [
    {
     "name": "stdin",
     "output_type": "stream",
     "text": [
      "Yaşınızı daxil edin:  78\n"
     ]
    },
    {
     "name": "stdout",
     "output_type": "stream",
     "text": [
      "Yetkin\n"
     ]
    }
   ],
   "source": [
    "# 9) yas_kateqoriya adlı funksiya yaradın ki, input()/readline() ilə yaş soruşsun, \n",
    "# 18-dən aşağıysa \"Gənc\", yuxarıdrsa \"Yetkin\" çap etsin.\n",
    "def yas_kateqoriya():\n",
    "    yas = int(input('Yaşınızı daxil edin: '))\n",
    "    if yas < 18:\n",
    "        print('Gənc')\n",
    "    else:\n",
    "        print('Yetkin')\n",
    "\n",
    "yas_kateqoriya()"
   ]
  },
  {
   "cell_type": "code",
   "execution_count": 99,
   "id": "687bc88e-2f99-4c1e-9ba6-653b495f5c86",
   "metadata": {},
   "outputs": [],
   "source": [
    "# 10) soz_uzunluq adlı funksiya yaradın ki, input()/readline() ilə istifadəçidən söz alsın və onun uzunluğunu çap etsin.\n",
    "def soz_uzunluq():\n",
    "    soz = input('Söz daxil edin: ')\n",
    "    print(len(soz))\n",
    "\n",
    "soz_uzunluq()"
   ]
  },
  {
   "cell_type": "markdown",
   "id": "7969fc18-41cc-450d-8ae0-ff7c6369da15",
   "metadata": {},
   "source": [
    "# Sprint_4a_task"
   ]
  },
  {
   "cell_type": "code",
   "execution_count": 110,
   "id": "cff91b5a-82df-4ae4-9fc6-03068f8ba0c4",
   "metadata": {},
   "outputs": [],
   "source": [
    "# 1) İstifadəçidən iki rəqəm və bir əməliyyat (toplama, çıxma, vurma, bölmə) \n",
    "# daxil etməsini tələb edən funksiya yazın. \n",
    "# Mümkün xətaları (ValueError, TypeError və s.) idarə edin və müvafiq mesajlar çıxarın. \n",
    "# Sonda da \"Hesablama bitdi\" mesajı çap olunsun.\n",
    "def hesabla():\n",
    "    try:\n",
    "        a = float(input('Birinci ədədi daxil edin: '))\n",
    "        b = float(input('İkinci ədədi daxil edin: '))\n",
    "        əməl = input('Əməliyyat seçin (+, -, *, /): ')\n",
    "        if əməl == '+':\n",
    "            print(a + b)\n",
    "        elif əməl == '-':\n",
    "            print(a - b)\n",
    "        elif əməl == '*':\n",
    "            print(a * b)\n",
    "        elif əməl == '/':\n",
    "            print(a / b)\n",
    "        else:\n",
    "            print('Yanlış əməliyyat!')\n",
    "    except (ValueError, TypeError, ZeroDivisionError) as e:\n",
    "        print('Xəta baş verdi:', e)\n",
    "    finally:\n",
    "        print('Hesablama bitdi')"
   ]
  },
  {
   "cell_type": "code",
   "execution_count": 112,
   "id": "1d87a4cf-d6ea-4743-9738-ce5d9dd334b9",
   "metadata": {},
   "outputs": [
    {
     "name": "stdin",
     "output_type": "stream",
     "text": [
      "Birinci ədədi daxil edin:  9\n",
      "İkinci ədədi daxil edin:  7\n",
      "Əməliyyat seçin (+, -, *, /):  0\n"
     ]
    },
    {
     "name": "stdout",
     "output_type": "stream",
     "text": [
      "Yanlış əməliyyat!\n",
      "Hesablama bitdi\n"
     ]
    }
   ],
   "source": [
    "hesabla()"
   ]
  },
  {
   "cell_type": "code",
   "execution_count": 116,
   "id": "fbe03294-7bd1-4f32-8031-26d9f6ebd785",
   "metadata": {},
   "outputs": [
    {
     "name": "stdout",
     "output_type": "stream",
     "text": [
      "[11, 22, 33, 44]\n"
     ]
    }
   ],
   "source": [
    "# 2) 1-dən 50-yə qədər olan rəqəmlərdən yalnız 11ə qalıqsız bölünənlərini list olaraq qaytarın.\n",
    "result = []\n",
    "for i in range(1, 51):\n",
    "    if i % 11 == 0:\n",
    "        result.append(i)\n",
    "\n",
    "print(result)"
   ]
  },
  {
   "cell_type": "code",
   "execution_count": 122,
   "id": "48c9cd70-07c7-43f9-a69f-96dc9862dc94",
   "metadata": {},
   "outputs": [
    {
     "name": "stdout",
     "output_type": "stream",
     "text": [
      "['k', 'q', 'd', 's']\n"
     ]
    }
   ],
   "source": [
    "# 3) Verilmiş sözlər siyahısından ([\"kitab\", \"qələm\", \"defter\", \"silgi\"]) hər sözün ilk hərfini list olaraq qaytarın.\n",
    "sozler = [\"kitab\", \"qələm\", \"defter\", \"silgi\"]\n",
    "ilk_herfler = []\n",
    "for i in sozler:\n",
    "    ilk_herfler.append(i[0])\n",
    "\n",
    "print(ilk_herfler)"
   ]
  },
  {
   "cell_type": "code",
   "execution_count": 124,
   "id": "343e09c0-dd1d-4f60-a3bf-2bad3a80146f",
   "metadata": {},
   "outputs": [
    {
     "name": "stdout",
     "output_type": "stream",
     "text": [
      "{'Bakı': 12, 'Gəncə': 22, 'Sumqayıt': 18}\n"
     ]
    }
   ],
   "source": [
    "# 4) Şəhər adları ([\"Bakı\", \"Gəncə\", \"Sumqayıt\"]) və kodları ([12, 22, 18]) siyahılarından {şəhər: kod} dictionary olaraq qaytarın.\n",
    "seherler = [\"Bakı\", \"Gəncə\", \"Sumqayıt\"]\n",
    "kodlar = [12, 22, 18]\n",
    "seher_kod_dict = {}\n",
    "\n",
    "for i in range(len(seherler)):\n",
    "    seher_kod_dict[seherler[i]] = kodlar[i]\n",
    "\n",
    "print(seher_kod_dict)"
   ]
  },
  {
   "cell_type": "code",
   "execution_count": 126,
   "id": "ddad600c-efed-4fe6-9bc0-130ee943199a",
   "metadata": {},
   "outputs": [
    {
     "name": "stdout",
     "output_type": "stream",
     "text": [
      "[0.621371, 3.106855, 6.21371, 12.42742, 31.068550000000002]\n"
     ]
    }
   ],
   "source": [
    "# 5) Kilometri milə çevirən (mil = km * 0.621371) lambda funksiyası yazın və 5 fərqli dəyər üçün yoxlayın.\n",
    "km_to_mil = lambda km: km * 0.621371\n",
    "deyerler = [1, 5, 10, 20, 50]\n",
    "mil_deyerler = []\n",
    "\n",
    "for km in deyerler:\n",
    "    mil_deyerler.append(km_to_mil(km))\n",
    "\n",
    "print(mil_deyerler)"
   ]
  },
  {
   "cell_type": "code",
   "execution_count": 128,
   "id": "603d4be6-fa48-402a-a212-d0ed4b24348e",
   "metadata": {},
   "outputs": [
    {
     "name": "stdout",
     "output_type": "stream",
     "text": [
      "[0.621371, 3.106855, 6.21371, 12.42742, 31.068550000000002]\n"
     ]
    }
   ],
   "source": [
    "km_to_mil = lambda km: km * 0.621371\n",
    "deyerler = [1, 5, 10, 20, 50]\n",
    "mil_deyerler = list(map(km_to_mil, deyerler))\n",
    "print(mil_deyerler)"
   ]
  },
  {
   "cell_type": "code",
   "execution_count": 137,
   "id": "9bf439d9-d415-4057-95d5-a50f6b18c69b",
   "metadata": {},
   "outputs": [
    {
     "name": "stdout",
     "output_type": "stream",
     "text": [
      "[118.0, 236.0, 354.0, 472.0]\n"
     ]
    }
   ],
   "source": [
    "# 6) [100, 200, 300, 400] qiymətlərinə 18% vergi əlavə etmək üçün map() və lambda istifadə edin.\n",
    "qiymetler = [100, 200, 300, 400]\n",
    "vergi_elaveli = list(map(lambda x: x * 1.18, qiymetler))\n",
    "print(vergi_elaveli)"
   ]
  },
  {
   "cell_type": "code",
   "execution_count": 139,
   "id": "326d8501-2f6c-4e8d-9bf3-385993559ff8",
   "metadata": {},
   "outputs": [
    {
     "name": "stdout",
     "output_type": "stream",
     "text": [
      "[10, 22, 36]\n"
     ]
    }
   ],
   "source": [
    "# 7) [3, 7, 12] və [2, 4, 6] siyahılarının elementlərini ikiqat artırmaq və sonra cəmləmək üçün map() istifadə edin.\n",
    "a = [3, 7, 12]\n",
    "b = [2, 4, 6]\n",
    "summ = list(map(lambda x, y: (x * 2) + (y * 2), a, b))\n",
    "print(summ)"
   ]
  },
  {
   "cell_type": "code",
   "execution_count": 143,
   "id": "3cf829fa-04fa-4c96-9a73-de768709640c",
   "metadata": {},
   "outputs": [
    {
     "name": "stdout",
     "output_type": "stream",
     "text": [
      "45\n"
     ]
    }
   ],
   "source": [
    "# 8) [150, 80, 220, 45] siyahısından ən kiçik qiyməti reduce() ilə tapın.\n",
    "from functools import reduce\n",
    "\n",
    "qiymetler = [150, 80, 220, 45]\n",
    "en_kicik = reduce(lambda x, y: x if x < y else y, qiymetler)\n",
    "print(en_kicik)"
   ]
  },
  {
   "cell_type": "code",
   "execution_count": null,
   "id": "9875255f-d563-401b-8f5a-1f5d3fd04bbb",
   "metadata": {},
   "outputs": [],
   "source": []
  },
  {
   "cell_type": "code",
   "execution_count": null,
   "id": "3caf2f4b-c870-418e-82e6-152d806062c7",
   "metadata": {},
   "outputs": [],
   "source": []
  },
  {
   "cell_type": "code",
   "execution_count": null,
   "id": "af981492-b194-4451-a33b-e6ff40aba1be",
   "metadata": {},
   "outputs": [],
   "source": []
  },
  {
   "cell_type": "code",
   "execution_count": null,
   "id": "ae0b4871-1071-4d2f-8bdd-eeeff9c5e38f",
   "metadata": {},
   "outputs": [],
   "source": []
  }
 ],
 "metadata": {
  "kernelspec": {
   "display_name": "Python [conda env:base] *",
   "language": "python",
   "name": "conda-base-py"
  },
  "language_info": {
   "codemirror_mode": {
    "name": "ipython",
    "version": 3
   },
   "file_extension": ".py",
   "mimetype": "text/x-python",
   "name": "python",
   "nbconvert_exporter": "python",
   "pygments_lexer": "ipython3",
   "version": "3.12.7"
  }
 },
 "nbformat": 4,
 "nbformat_minor": 5
}
